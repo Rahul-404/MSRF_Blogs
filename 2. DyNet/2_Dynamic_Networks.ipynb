{
  "nbformat": 4,
  "nbformat_minor": 0,
  "metadata": {
    "colab": {
      "name": "2. Dynamic Networks.ipynb",
      "provenance": []
    },
    "kernelspec": {
      "name": "python3",
      "display_name": "Python 3"
    },
    "language_info": {
      "name": "python"
    }
  },
  "cells": [
    {
      "cell_type": "markdown",
      "metadata": {
        "id": "rLhd0sXP3QWR"
      },
      "source": [
        "## **DyNet Installation**"
      ]
    },
    {
      "cell_type": "code",
      "metadata": {
        "colab": {
          "base_uri": "https://localhost:8080/"
        },
        "id": "RBoAFblA3TaI",
        "outputId": "8990c090-9fe0-4252-c8c4-09e6c32f7af4"
      },
      "source": [
        "! pip install -U dynet"
      ],
      "execution_count": 4,
      "outputs": [
        {
          "output_type": "stream",
          "text": [
            "Requirement already satisfied: dynet in /usr/local/lib/python3.7/dist-packages (2.1.2)\n",
            "Requirement already satisfied: numpy in /usr/local/lib/python3.7/dist-packages (from dynet) (1.19.5)\n",
            "Requirement already satisfied: cython in /usr/local/lib/python3.7/dist-packages (from dynet) (0.29.23)\n"
          ],
          "name": "stdout"
        }
      ]
    },
    {
      "cell_type": "markdown",
      "metadata": {
        "id": "03HJJ1gdT0Za"
      },
      "source": [
        "## **Dynamic Networks**"
      ]
    },
    {
      "cell_type": "code",
      "metadata": {
        "colab": {
          "base_uri": "https://localhost:8080/"
        },
        "id": "uLdwv-3O29YE",
        "outputId": "497c4a46-87c2-4c15-eaef-899269491d5c"
      },
      "source": [
        "# we assume that we have the dynet module in your path.\n",
        "import dynet as dy\n",
        "print('DyNet Version : %s' % dy.__version__)"
      ],
      "execution_count": 5,
      "outputs": [
        {
          "output_type": "stream",
          "text": [
            "DyNet Version : 2.1\n"
          ],
          "name": "stdout"
        }
      ]
    },
    {
      "cell_type": "code",
      "metadata": {
        "id": "j7Rl2XYns_pN"
      },
      "source": [
        "def training_set_xor(num_rounds=2000):\n",
        "    inputs = []\n",
        "    outputs = []\n",
        "    for round in range(num_rounds):\n",
        "        for x1 in 0,1:\n",
        "            for x2 in 0,1:\n",
        "                output = 0 if x1==x2 else 1\n",
        "                inputs.append((x1,x2))\n",
        "                outputs.append(output)\n",
        "    return inputs, outputs"
      ],
      "execution_count": 7,
      "outputs": []
    },
    {
      "cell_type": "code",
      "metadata": {
        "id": "5Lm2No4N2dGk"
      },
      "source": [
        "inputs, outputs = training_set_xor()"
      ],
      "execution_count": 8,
      "outputs": []
    },
    {
      "cell_type": "code",
      "metadata": {
        "id": "_ODD7Fm53Bhg"
      },
      "source": [
        "# create a network for the xor problem given input and output\n",
        "def create_network(Weights, Vector, bias, inputs, expected_answer):\n",
        "    dy.renew_cg() # new computation graph\n",
        "    x = dy.vecInput(len(inputs))\n",
        "    x.set(inputs)\n",
        "    y = dy.scalarInput(expected_answer)\n",
        "    estimate = dy.logistic(Vector*(dy.tanh((Weights*x)+bias)))\n",
        "    loss =  dy.binary_log_loss(estimate, y)\n",
        "    return loss"
      ],
      "execution_count": 14,
      "outputs": []
    },
    {
      "cell_type": "code",
      "metadata": {
        "id": "_VoIQuPd3S9-"
      },
      "source": [
        "model2 = dy.ParameterCollection()\n",
        "Weights = model2.add_parameters((8,2))\n",
        "Vector = model2.add_parameters((1,8))\n",
        "bias = model2.add_parameters((8))\n",
        "trainer = dy.SimpleSGDTrainer(model2)\n"
      ],
      "execution_count": 9,
      "outputs": []
    },
    {
      "cell_type": "code",
      "metadata": {
        "id": "ssO9r6Rd3SyZ"
      },
      "source": [
        "seen_instances = 0\n",
        "total_loss = 0"
      ],
      "execution_count": 10,
      "outputs": []
    },
    {
      "cell_type": "code",
      "metadata": {
        "colab": {
          "base_uri": "https://localhost:8080/"
        },
        "id": "qjNN6n4I3Yog",
        "outputId": "c4b45af5-973f-4f6a-e4b9-e266ff17cc80"
      },
      "source": [
        "for input, output in zip(inputs, outputs):\n",
        "    loss = create_network(Weights, Vector, bias, input, output)\n",
        "    seen_instances += 1\n",
        "    total_loss += loss.value()\n",
        "    loss.backward()\n",
        "    trainer.update()\n",
        "    if (seen_instances > 1 and seen_instances % 100 == 0):\n",
        "        print(\"average loss is:\",total_loss / seen_instances)"
      ],
      "execution_count": 15,
      "outputs": [
        {
          "output_type": "stream",
          "text": [
            "average loss is: 0.04350079442709282\n",
            "average loss is: 0.04298930688722843\n",
            "average loss is: 0.042489879116323404\n",
            "average loss is: 0.042002087373347465\n",
            "average loss is: 0.041525527741869586\n",
            "average loss is: 0.04105981478299729\n",
            "average loss is: 0.04060458046773545\n",
            "average loss is: 0.040159473386844516\n",
            "average loss is: 0.03972415764958681\n",
            "average loss is: 0.039298312096765986\n",
            "average loss is: 0.03888162951075963\n",
            "average loss is: 0.03847381586782159\n",
            "average loss is: 0.03807458951241857\n",
            "average loss is: 0.03768368083971275\n",
            "average loss is: 0.03730083123590846\n",
            "average loss is: 0.03692579286096589\n",
            "average loss is: 0.03655832782778985\n",
            "average loss is: 0.03619820794375728\n",
            "average loss is: 0.035845214060855786\n",
            "average loss is: 0.035499135681707414\n",
            "average loss is: 0.035159770687166046\n",
            "average loss is: 0.034826924432829184\n",
            "average loss is: 0.0345004100436503\n",
            "average loss is: 0.034180047778460836\n",
            "average loss is: 0.033865664381373096\n",
            "average loss is: 0.03355709324658405\n",
            "average loss is: 0.033254173934964514\n",
            "average loss is: 0.03295675175789964\n",
            "average loss is: 0.03266467769535199\n",
            "average loss is: 0.03237780807214387\n",
            "average loss is: 0.03209600434644853\n",
            "average loss is: 0.03181913286743761\n",
            "average loss is: 0.031547064620870646\n",
            "average loss is: 0.031279675047717\n",
            "average loss is: 0.031016843874037834\n",
            "average loss is: 0.030758454982373975\n",
            "average loss is: 0.03050439618652762\n",
            "average loss is: 0.03025455887786555\n",
            "average loss is: 0.03000883840879488\n",
            "average loss is: 0.02976713317463873\n",
            "average loss is: 0.02952934509972091\n",
            "average loss is: 0.029295379367053936\n",
            "average loss is: 0.029065143959980073\n",
            "average loss is: 0.02883854998425851\n",
            "average loss is: 0.028615511396769433\n",
            "average loss is: 0.028395944601220507\n",
            "average loss is: 0.02817976885689716\n",
            "average loss is: 0.027966905812754704\n",
            "average loss is: 0.027757279536241932\n",
            "average loss is: 0.02755081637501448\n",
            "average loss is: 0.02734744492628992\n",
            "average loss is: 0.027147095967547184\n",
            "average loss is: 0.026949702222578583\n",
            "average loss is: 0.026755198540557835\n",
            "average loss is: 0.02656352148616807\n",
            "average loss is: 0.02637460967153054\n",
            "average loss is: 0.02618840343824904\n",
            "average loss is: 0.026004844719161906\n",
            "average loss is: 0.025823877141861205\n",
            "average loss is: 0.025645445958245545\n",
            "average loss is: 0.025469498118313016\n",
            "average loss is: 0.02529598178658028\n",
            "average loss is: 0.02512484654395473\n",
            "average loss is: 0.02495604352553831\n",
            "average loss is: 0.02478952520801525\n",
            "average loss is: 0.02462524538668756\n",
            "average loss is: 0.024463158873084864\n",
            "average loss is: 0.02430322177710509\n",
            "average loss is: 0.024145391469351764\n",
            "average loss is: 0.02398962637350196\n",
            "average loss is: 0.023835886114589956\n",
            "average loss is: 0.02368413125624341\n",
            "average loss is: 0.023534323298414178\n",
            "average loss is: 0.023386424905340816\n",
            "average loss is: 0.02324039951551916\n",
            "average loss is: 0.023096211812629077\n",
            "average loss is: 0.022953826969476107\n",
            "average loss is: 0.02281321130582438\n",
            "average loss is: 0.02267433189017458\n",
            "average loss is: 0.022537156547368795\n"
          ],
          "name": "stdout"
        }
      ]
    },
    {
      "cell_type": "code",
      "metadata": {
        "id": "rnlQr2nz3aaA"
      },
      "source": [
        ""
      ],
      "execution_count": null,
      "outputs": []
    }
  ]
}