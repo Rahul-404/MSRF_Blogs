{
  "nbformat": 4,
  "nbformat_minor": 0,
  "metadata": {
    "colab": {
      "name": "1. Static Networks.ipynb",
      "provenance": []
    },
    "kernelspec": {
      "name": "python3",
      "display_name": "Python 3"
    },
    "language_info": {
      "name": "python"
    }
  },
  "cells": [
    {
      "cell_type": "markdown",
      "metadata": {
        "id": "rLhd0sXP3QWR"
      },
      "source": [
        "## **DyNet Installation**"
      ]
    },
    {
      "cell_type": "code",
      "metadata": {
        "colab": {
          "base_uri": "https://localhost:8080/"
        },
        "id": "RBoAFblA3TaI",
        "outputId": "88401e42-6ad6-462f-c62b-95080f88e1c7"
      },
      "source": [
        "! pip install -U dynet"
      ],
      "execution_count": 1,
      "outputs": [
        {
          "output_type": "stream",
          "text": [
            "Collecting dynet\n",
            "  Downloading dyNET-2.1.2-cp37-cp37m-manylinux1_x86_64.whl (4.4 MB)\n",
            "\u001b[K     |████████████████████████████████| 4.4 MB 13.9 MB/s \n",
            "\u001b[?25hRequirement already satisfied: numpy in /usr/local/lib/python3.7/dist-packages (from dynet) (1.19.5)\n",
            "Requirement already satisfied: cython in /usr/local/lib/python3.7/dist-packages (from dynet) (0.29.23)\n",
            "Installing collected packages: dynet\n",
            "Successfully installed dynet-2.1.2\n"
          ],
          "name": "stdout"
        }
      ]
    },
    {
      "cell_type": "markdown",
      "metadata": {
        "id": "03HJJ1gdT0Za"
      },
      "source": [
        "## **Static Networks**"
      ]
    },
    {
      "cell_type": "code",
      "metadata": {
        "colab": {
          "base_uri": "https://localhost:8080/"
        },
        "id": "uLdwv-3O29YE",
        "outputId": "04275a12-f8f6-4c25-b978-f305cd87ea28"
      },
      "source": [
        "# we assume that we have the dynet module in your path.\n",
        "import dynet as dy\n",
        "print('DyNet Version : %s' % dy.__version__)"
      ],
      "execution_count": 29,
      "outputs": [
        {
          "output_type": "stream",
          "text": [
            "DyNet Version : 2.1\n"
          ],
          "name": "stdout"
        }
      ]
    },
    {
      "cell_type": "code",
      "metadata": {
        "colab": {
          "base_uri": "https://localhost:8080/"
        },
        "id": "rwSNY3YL3dDr",
        "outputId": "764b56f1-2c92-436c-92cc-03a4d19328e0"
      },
      "source": [
        "# create a parameter collection and add the parameters.\n",
        "model = dy.ParameterCollection()\n",
        "Weights = model.add_parameters((8,2))\n",
        "Vector = model.add_parameters((1,8))\n",
        "bias = model.add_parameters((8))\n",
        "\n",
        "dy.renew_cg() # new computation graph. not strictly needed here, but good practice."
      ],
      "execution_count": 30,
      "outputs": [
        {
          "output_type": "execute_result",
          "data": {
            "text/plain": [
              "<_dynet.ComputationGraph at 0x7f7e8a806870>"
            ]
          },
          "metadata": {
            "tags": []
          },
          "execution_count": 30
        }
      ]
    },
    {
      "cell_type": "code",
      "metadata": {
        "colab": {
          "base_uri": "https://localhost:8080/"
        },
        "id": "139U7YOy6-wx",
        "outputId": "0b2148f7-288d-4430-8e9b-c8da6acf37cd"
      },
      "source": [
        "Vector.value()"
      ],
      "execution_count": 31,
      "outputs": [
        {
          "output_type": "execute_result",
          "data": {
            "text/plain": [
              "array([[ 0.01672149,  0.73200035,  0.39528334, -0.05091256,  0.70088458,\n",
              "         0.56406248,  0.11054033, -0.49224973]])"
            ]
          },
          "metadata": {
            "tags": []
          },
          "execution_count": 31
        }
      ]
    },
    {
      "cell_type": "code",
      "metadata": {
        "colab": {
          "base_uri": "https://localhost:8080/"
        },
        "id": "CweDkqL26684",
        "outputId": "90378971-eb6d-420b-8907-a70b2529edcf"
      },
      "source": [
        "Weights.value()"
      ],
      "execution_count": 32,
      "outputs": [
        {
          "output_type": "execute_result",
          "data": {
            "text/plain": [
              "array([[ 0.02170771, -0.75533062],\n",
              "       [ 0.75009274, -0.39546937],\n",
              "       [-0.12265885, -0.74240756],\n",
              "       [-0.41452768, -0.62821496],\n",
              "       [ 0.7363255 ,  0.38632619],\n",
              "       [-0.66921926, -0.47995621],\n",
              "       [-0.17384517, -0.30395383],\n",
              "       [ 0.69719303, -0.18562281]])"
            ]
          },
          "metadata": {
            "tags": []
          },
          "execution_count": 32
        }
      ]
    },
    {
      "cell_type": "code",
      "metadata": {
        "colab": {
          "base_uri": "https://localhost:8080/"
        },
        "id": "wXYl3j0j3y0x",
        "outputId": "3864c878-3855-4faa-e872-14b2be4ffdb8"
      },
      "source": [
        "#b[1:-1].value()\n",
        "bias.value()"
      ],
      "execution_count": 33,
      "outputs": [
        {
          "output_type": "execute_result",
          "data": {
            "text/plain": [
              "[-0.43197232484817505,\n",
              " 0.2133452296257019,\n",
              " 0.054824650287628174,\n",
              " 0.030038952827453613,\n",
              " -0.31308531761169434,\n",
              " -0.4460044503211975,\n",
              " -0.346992164850235,\n",
              " -0.4860454201698303]"
            ]
          },
          "metadata": {
            "tags": []
          },
          "execution_count": 33
        }
      ]
    },
    {
      "cell_type": "code",
      "metadata": {
        "id": "pg_BcqXY3433"
      },
      "source": [
        "x = dy.vecInput(2) # an input vector of size 2. Also an expression.\n",
        "estimate = dy.logistic(Vector*(dy.tanh((Weights*x)+bias)))"
      ],
      "execution_count": 34,
      "outputs": []
    },
    {
      "cell_type": "code",
      "metadata": {
        "colab": {
          "base_uri": "https://localhost:8080/"
        },
        "id": "Kka5hxXi7IZL",
        "outputId": "d522bd7d-50f9-4178-b6b9-afed014d8f4f"
      },
      "source": [
        "# we can now query our network\n",
        "x.set([0,0])\n",
        "estimate.value()"
      ],
      "execution_count": 35,
      "outputs": [
        {
          "output_type": "execute_result",
          "data": {
            "text/plain": [
              "0.4759312570095062"
            ]
          },
          "metadata": {
            "tags": []
          },
          "execution_count": 35
        }
      ]
    },
    {
      "cell_type": "code",
      "metadata": {
        "id": "rhGhYH1X7MBQ"
      },
      "source": [
        "# we want to be able to define a loss, so we need an input expression to work against.\n",
        "y = dy.scalarInput(0) # this will hold the correct answer\n",
        "loss = dy.binary_log_loss(estimate, y)"
      ],
      "execution_count": 36,
      "outputs": []
    },
    {
      "cell_type": "code",
      "metadata": {
        "colab": {
          "base_uri": "https://localhost:8080/"
        },
        "id": "QanlQZNT7YKg",
        "outputId": "795b4318-0d59-49b5-cb6e-602b616c685b"
      },
      "source": [
        "x.set([1,0])\n",
        "y.set(0)\n",
        "print(loss.value())\n",
        "\n",
        "y.set(1)\n",
        "print(loss.value())"
      ],
      "execution_count": 37,
      "outputs": [
        {
          "output_type": "stream",
          "text": [
            "0.7989975214004517\n",
            "0.5974364280700684\n"
          ],
          "name": "stdout"
        }
      ]
    },
    {
      "cell_type": "markdown",
      "metadata": {
        "id": "PTjvgz1jT8Y6"
      },
      "source": [
        "### **Training**"
      ]
    },
    {
      "cell_type": "code",
      "metadata": {
        "id": "kAvfMvuH7d-f"
      },
      "source": [
        "trainer = dy.SimpleSGDTrainer(model)"
      ],
      "execution_count": 38,
      "outputs": []
    },
    {
      "cell_type": "code",
      "metadata": {
        "id": "HcS01IT_7okA",
        "colab": {
          "base_uri": "https://localhost:8080/"
        },
        "outputId": "fda6a048-4e65-4bb3-84bb-b0a2c16f3d28"
      },
      "source": [
        "x.set([1,0])\n",
        "y.set(1)\n",
        "loss_value = loss.value() # this performs a forward through the network.\n",
        "print(\"the loss before step is:\",loss_value)\n",
        "\n",
        "# now do an optimization step\n",
        "loss.backward()  # compute the gradients\n",
        "trainer.update()\n",
        "\n",
        "# see how it affected the loss:\n",
        "loss_value = loss.value(recalculate=True) # recalculate=True means \"don't use precomputed value\"\n",
        "print(\"the loss after step is:\",loss_value)\n"
      ],
      "execution_count": 39,
      "outputs": [
        {
          "output_type": "stream",
          "text": [
            "the loss before step is: 0.5974364280700684\n",
            "the loss after step is: 0.5264061689376831\n"
          ],
          "name": "stdout"
        }
      ]
    },
    {
      "cell_type": "code",
      "metadata": {
        "id": "sr08VwuLUCw2"
      },
      "source": [
        "def training_set_xor(num_rounds=2000):\n",
        "    inputs = []\n",
        "    outputs = []\n",
        "    for round in range(num_rounds):\n",
        "        for x1 in 0,1:\n",
        "            for x2 in 0,1:\n",
        "                output = 0 if x1==x2 else 1\n",
        "                inputs.append((x1,x2))\n",
        "                outputs.append(output)\n",
        "    return inputs, outputs\n",
        "\n",
        "inputs, outputs = training_set_xor()"
      ],
      "execution_count": 40,
      "outputs": []
    },
    {
      "cell_type": "code",
      "metadata": {
        "colab": {
          "base_uri": "https://localhost:8080/"
        },
        "id": "tLl_P8eVUIL9",
        "outputId": "3e6ccb8e-55ae-435d-cac7-fd04a65c6eda"
      },
      "source": [
        "total_loss = 0\n",
        "seen_instances = 0\n",
        "for input, output in zip(inputs, outputs):\n",
        "    x.set(input)\n",
        "    y.set(output)\n",
        "    seen_instances += 1\n",
        "    total_loss += loss.value()\n",
        "    loss.backward()\n",
        "    trainer.update()\n",
        "    if (seen_instances > 1 and seen_instances % 100 == 0):\n",
        "        print(\"average loss is:\",total_loss / seen_instances)"
      ],
      "execution_count": 41,
      "outputs": [
        {
          "output_type": "stream",
          "text": [
            "average loss is: 0.7265273672342301\n",
            "average loss is: 0.6818469610810279\n",
            "average loss is: 0.6311899694800377\n",
            "average loss is: 0.5744382533431053\n",
            "average loss is: 0.514801154255867\n",
            "average loss is: 0.45856580141931774\n",
            "average loss is: 0.4097782119682857\n",
            "average loss is: 0.36884966315235945\n",
            "average loss is: 0.3347053258534935\n",
            "average loss is: 0.3060608646105975\n",
            "average loss is: 0.28180533300238575\n",
            "average loss is: 0.26105752408737315\n",
            "average loss is: 0.24313562335733038\n",
            "average loss is: 0.22751362519238943\n",
            "average loss is: 0.2137833709906166\n",
            "average loss is: 0.20162521373975323\n",
            "average loss is: 0.19078620544388233\n",
            "average loss is: 0.1810640603534153\n",
            "average loss is: 0.1722953453841374\n",
            "average loss is: 0.16434673514438328\n",
            "average loss is: 0.15710847434820607\n",
            "average loss is: 0.15048944258977745\n",
            "average loss is: 0.14441339623618304\n",
            "average loss is: 0.13881607098766835\n",
            "average loss is: 0.13364293185407297\n",
            "average loss is: 0.12884740758633528\n",
            "average loss is: 0.1243894949288073\n",
            "average loss is: 0.12023464289884682\n",
            "average loss is: 0.11635285722091794\n",
            "average loss is: 0.11271797484656175\n",
            "average loss is: 0.10930707242659053\n",
            "average loss is: 0.10609998044568783\n",
            "average loss is: 0.10307888225856886\n",
            "average loss is: 0.10022798066469156\n",
            "average loss is: 0.09753322037036664\n",
            "average loss is: 0.09498205423487686\n",
            "average loss is: 0.09256324632823267\n",
            "average loss is: 0.09026670470649965\n",
            "average loss is: 0.08808334013671042\n",
            "average loss is: 0.08600494396817521\n",
            "average loss is: 0.08402408413881458\n",
            "average loss is: 0.08213401529843742\n",
            "average loss is: 0.08032860150243978\n",
            "average loss is: 0.07860224867475071\n",
            "average loss is: 0.07694984598419008\n",
            "average loss is: 0.07536671507473448\n",
            "average loss is: 0.07384856469280265\n",
            "average loss is: 0.07239145184510562\n",
            "average loss is: 0.07099174690664489\n",
            "average loss is: 0.06964610330705764\n",
            "average loss is: 0.06835143012525377\n",
            "average loss is: 0.0671048684314547\n",
            "average loss is: 0.06590376963900438\n",
            "average loss is: 0.06474567657228801\n",
            "average loss is: 0.06362830642745194\n",
            "average loss is: 0.06254953576802759\n",
            "average loss is: 0.06150738647705957\n",
            "average loss is: 0.06050001378761251\n",
            "average loss is: 0.059525695128940535\n",
            "average loss is: 0.05858282000855737\n",
            "average loss is: 0.05766988153749748\n",
            "average loss is: 0.056785467464951875\n",
            "average loss is: 0.055928253405283956\n",
            "average loss is: 0.05509699625800749\n",
            "average loss is: 0.054290527353000544\n",
            "average loss is: 0.05350774728586354\n",
            "average loss is: 0.05274762127642284\n",
            "average loss is: 0.05200917393805438\n",
            "average loss is: 0.051291485220435126\n",
            "average loss is: 0.05059368649853527\n",
            "average loss is: 0.04991495720169041\n",
            "average loss is: 0.049254521409942145\n",
            "average loss is: 0.048611644786584814\n",
            "average loss is: 0.04798563200972559\n",
            "average loss is: 0.047375823986592396\n",
            "average loss is: 0.04678159582273924\n",
            "average loss is: 0.04620235416777402\n",
            "average loss is: 0.045637535639353494\n",
            "average loss is: 0.04508660494328529\n",
            "average loss is: 0.04454905287200745\n"
          ],
          "name": "stdout"
        }
      ]
    },
    {
      "cell_type": "code",
      "metadata": {
        "colab": {
          "base_uri": "https://localhost:8080/"
        },
        "id": "gjX2y9aqUKcW",
        "outputId": "c95d697c-fd45-424d-d91b-cceac6d81140"
      },
      "source": [
        "x.set([0,1])\n",
        "print(\"0,1\", estimate.value())\n",
        "\n",
        "x.set([1,0])\n",
        "print(\"1,0\", estimate.value())\n",
        "\n",
        "x.set([0,0])\n",
        "print(\"0,0\", estimate.value())\n",
        "\n",
        "x.set([1,1])\n",
        "print(\"1,1\", estimate.value())"
      ],
      "execution_count": 42,
      "outputs": [
        {
          "output_type": "stream",
          "text": [
            "0,1 0.9973140358924866\n",
            "1,0 0.9975988268852234\n",
            "0,0 0.00048306540702469647\n",
            "1,1 0.0026758129242807627\n"
          ],
          "name": "stdout"
        }
      ]
    },
    {
      "cell_type": "code",
      "metadata": {
        "colab": {
          "base_uri": "https://localhost:8080/"
        },
        "id": "9nLU3MYDUNP3",
        "outputId": "d276db3b-4a54-4d12-cce1-0d64843aac43"
      },
      "source": [
        "Weights.value()"
      ],
      "execution_count": 43,
      "outputs": [
        {
          "output_type": "execute_result",
          "data": {
            "text/plain": [
              "array([[ 1.56691289, -2.66784978],\n",
              "       [ 0.90280598, -2.03891754],\n",
              "       [ 1.51222038, -2.80169749],\n",
              "       [-0.98409206, -1.04656172],\n",
              "       [ 3.22858667,  3.26019168],\n",
              "       [-2.80845404,  1.66872609],\n",
              "       [-0.25202587, -0.2965796 ],\n",
              "       [ 3.12019157, -1.70047855]])"
            ]
          },
          "metadata": {
            "tags": []
          },
          "execution_count": 43
        }
      ]
    },
    {
      "cell_type": "code",
      "metadata": {
        "colab": {
          "base_uri": "https://localhost:8080/"
        },
        "id": "1tOurxvFUPRD",
        "outputId": "005cc156-f79e-4b4a-cd40-4c6e23018171"
      },
      "source": [
        "Vector.value()"
      ],
      "execution_count": 44,
      "outputs": [
        {
          "output_type": "execute_result",
          "data": {
            "text/plain": [
              "array([[ 2.69440007,  1.68956578,  2.96427298, -1.29539144,  5.82483053,\n",
              "         3.17031765,  0.73548168, -3.83105183]])"
            ]
          },
          "metadata": {
            "tags": []
          },
          "execution_count": 44
        }
      ]
    },
    {
      "cell_type": "code",
      "metadata": {
        "colab": {
          "base_uri": "https://localhost:8080/"
        },
        "id": "8gKMJlKmUQqz",
        "outputId": "424e3dbf-94df-419f-aee5-287e90a42ed0"
      },
      "source": [
        "bias.value()"
      ],
      "execution_count": 45,
      "outputs": [
        {
          "output_type": "execute_result",
          "data": {
            "text/plain": [
              "[-0.4088715612888336,\n",
              " -0.02462054044008255,\n",
              " -0.30127471685409546,\n",
              " -0.5590880513191223,\n",
              " -0.9468629360198975,\n",
              " -0.41303399205207825,\n",
              " 0.5945218205451965,\n",
              " 0.32148823142051697]"
            ]
          },
          "metadata": {
            "tags": []
          },
          "execution_count": 45
        }
      ]
    },
    {
      "cell_type": "code",
      "metadata": {
        "id": "_ZZ-lIBnUZPz"
      },
      "source": [
        ""
      ],
      "execution_count": null,
      "outputs": []
    }
  ]
}