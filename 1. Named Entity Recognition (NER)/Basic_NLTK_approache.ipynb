{
  "nbformat": 4,
  "nbformat_minor": 0,
  "metadata": {
    "colab": {
      "name": "Basic_NLTK_approache.ipynb",
      "provenance": [],
      "collapsed_sections": []
    },
    "kernelspec": {
      "name": "python3",
      "display_name": "Python 3"
    },
    "language_info": {
      "name": "python"
    }
  },
  "cells": [
    {
      "cell_type": "code",
      "metadata": {
        "id": "C4qED4PDb2xk",
        "colab": {
          "base_uri": "https://localhost:8080/"
        },
        "outputId": "b9c1c4ef-48a0-4e4f-9058-0b64bb442743"
      },
      "source": [
        "#impoting libraries\n",
        "import nltk\n",
        "nltk.download('punkt')\n",
        "nltk.download('averaged_perceptron_tagger')\n",
        "nltk.download('tagsets')\n",
        "nltk.download('maxent_ne_chunker')\n",
        "nltk.download('words')\n",
        "import pandas as pd"
      ],
      "execution_count": 1,
      "outputs": [
        {
          "output_type": "stream",
          "text": [
            "[nltk_data] Downloading package punkt to /root/nltk_data...\n",
            "[nltk_data]   Unzipping tokenizers/punkt.zip.\n",
            "[nltk_data] Downloading package averaged_perceptron_tagger to\n",
            "[nltk_data]     /root/nltk_data...\n",
            "[nltk_data]   Unzipping taggers/averaged_perceptron_tagger.zip.\n",
            "[nltk_data] Downloading package tagsets to /root/nltk_data...\n",
            "[nltk_data]   Unzipping help/tagsets.zip.\n",
            "[nltk_data] Downloading package maxent_ne_chunker to\n",
            "[nltk_data]     /root/nltk_data...\n",
            "[nltk_data]   Unzipping chunkers/maxent_ne_chunker.zip.\n",
            "[nltk_data] Downloading package words to /root/nltk_data...\n",
            "[nltk_data]   Unzipping corpora/words.zip.\n"
          ],
          "name": "stdout"
        }
      ]
    },
    {
      "cell_type": "markdown",
      "metadata": {
        "id": "apaZsHGjsMJG"
      },
      "source": [
        "**Data**"
      ]
    },
    {
      "cell_type": "code",
      "metadata": {
        "id": "wcShkBed6Fm9"
      },
      "source": [
        "#data\n",
        "text = \"Apple acquired Zoom in China on Wednesday 6th May 2020.\\\n",
        "This news has made Apple and Google stock jump by 5% on Dow Jones Index in the \\\n",
        "United States of America\""
      ],
      "execution_count": 2,
      "outputs": []
    },
    {
      "cell_type": "markdown",
      "metadata": {
        "id": "pmdHQLtytOWD"
      },
      "source": [
        "# **Basic Named Entity (NE) tagging using NLTK - Word based**"
      ]
    },
    {
      "cell_type": "code",
      "metadata": {
        "id": "8a1LuhG6bD5X",
        "colab": {
          "base_uri": "https://localhost:8080/"
        },
        "outputId": "3335e309-fd34-4eb3-bf8e-75f379532b32"
      },
      "source": [
        "#tokenize to words\n",
        "words = nltk.word_tokenize(text)\n",
        "words"
      ],
      "execution_count": 3,
      "outputs": [
        {
          "output_type": "execute_result",
          "data": {
            "text/plain": [
              "['Apple',\n",
              " 'acquired',\n",
              " 'Zoom',\n",
              " 'in',\n",
              " 'China',\n",
              " 'on',\n",
              " 'Wednesday',\n",
              " '6th',\n",
              " 'May',\n",
              " '2020.This',\n",
              " 'news',\n",
              " 'has',\n",
              " 'made',\n",
              " 'Apple',\n",
              " 'and',\n",
              " 'Google',\n",
              " 'stock',\n",
              " 'jump',\n",
              " 'by',\n",
              " '5',\n",
              " '%',\n",
              " 'on',\n",
              " 'Dow',\n",
              " 'Jones',\n",
              " 'Index',\n",
              " 'in',\n",
              " 'the',\n",
              " 'United',\n",
              " 'States',\n",
              " 'of',\n",
              " 'America']"
            ]
          },
          "metadata": {
            "tags": []
          },
          "execution_count": 3
        }
      ]
    },
    {
      "cell_type": "code",
      "metadata": {
        "id": "V2LImqlCtiKl",
        "colab": {
          "base_uri": "https://localhost:8080/"
        },
        "outputId": "96a6270d-9bc2-4f61-d5ab-38693b5c88d8"
      },
      "source": [
        "#Part of speech tagging\n",
        "pos_tags = nltk.pos_tag(words)\n",
        "pos_tags"
      ],
      "execution_count": 4,
      "outputs": [
        {
          "output_type": "execute_result",
          "data": {
            "text/plain": [
              "[('Apple', 'NNP'),\n",
              " ('acquired', 'VBD'),\n",
              " ('Zoom', 'NNP'),\n",
              " ('in', 'IN'),\n",
              " ('China', 'NNP'),\n",
              " ('on', 'IN'),\n",
              " ('Wednesday', 'NNP'),\n",
              " ('6th', 'CD'),\n",
              " ('May', 'NNP'),\n",
              " ('2020.This', 'CD'),\n",
              " ('news', 'NN'),\n",
              " ('has', 'VBZ'),\n",
              " ('made', 'VBN'),\n",
              " ('Apple', 'NNP'),\n",
              " ('and', 'CC'),\n",
              " ('Google', 'NNP'),\n",
              " ('stock', 'NN'),\n",
              " ('jump', 'NN'),\n",
              " ('by', 'IN'),\n",
              " ('5', 'CD'),\n",
              " ('%', 'NN'),\n",
              " ('on', 'IN'),\n",
              " ('Dow', 'NNP'),\n",
              " ('Jones', 'NNP'),\n",
              " ('Index', 'NNP'),\n",
              " ('in', 'IN'),\n",
              " ('the', 'DT'),\n",
              " ('United', 'NNP'),\n",
              " ('States', 'NNPS'),\n",
              " ('of', 'IN'),\n",
              " ('America', 'NNP')]"
            ]
          },
          "metadata": {
            "tags": []
          },
          "execution_count": 4
        }
      ]
    },
    {
      "cell_type": "code",
      "metadata": {
        "id": "rFiw16DWtx3c",
        "colab": {
          "base_uri": "https://localhost:8080/"
        },
        "outputId": "916771b6-ddbc-456c-9c8c-e5074867a0dc"
      },
      "source": [
        "#Check nltk help for description of tag\n",
        "nltk.help.upenn_tagset('NN')"
      ],
      "execution_count": 5,
      "outputs": [
        {
          "output_type": "stream",
          "text": [
            "NN: noun, common, singular or mass\n",
            "    common-carrier cabbage knuckle-duster Casino afghan shed thermostat\n",
            "    investment slide humour falloff slick wind hyena override subhumanity\n",
            "    machinist ...\n"
          ],
          "name": "stdout"
        }
      ]
    },
    {
      "cell_type": "markdown",
      "metadata": {
        "id": "vYVsoX3UuVyG"
      },
      "source": [
        "**ne_chunk**\n",
        "\n",
        "**Binary == True**"
      ]
    },
    {
      "cell_type": "code",
      "metadata": {
        "id": "DrndcpchuG8r",
        "colab": {
          "base_uri": "https://localhost:8080/"
        },
        "outputId": "3de2eef3-3884-4f5a-8dcd-3c3a3b64cea5"
      },
      "source": [
        "chunks = nltk.ne_chunk(pos_tags, binary=True)\n",
        "for chunk in chunks:\n",
        "  print(chunk)"
      ],
      "execution_count": 6,
      "outputs": [
        {
          "output_type": "stream",
          "text": [
            "(NE Apple/NNP)\n",
            "('acquired', 'VBD')\n",
            "('Zoom', 'NNP')\n",
            "('in', 'IN')\n",
            "(NE China/NNP)\n",
            "('on', 'IN')\n",
            "('Wednesday', 'NNP')\n",
            "('6th', 'CD')\n",
            "('May', 'NNP')\n",
            "('2020.This', 'CD')\n",
            "('news', 'NN')\n",
            "('has', 'VBZ')\n",
            "('made', 'VBN')\n",
            "(NE Apple/NNP)\n",
            "('and', 'CC')\n",
            "(NE Google/NNP)\n",
            "('stock', 'NN')\n",
            "('jump', 'NN')\n",
            "('by', 'IN')\n",
            "('5', 'CD')\n",
            "('%', 'NN')\n",
            "('on', 'IN')\n",
            "('Dow', 'NNP')\n",
            "('Jones', 'NNP')\n",
            "('Index', 'NNP')\n",
            "('in', 'IN')\n",
            "('the', 'DT')\n",
            "(NE United/NNP States/NNPS)\n",
            "('of', 'IN')\n",
            "(NE America/NNP)\n"
          ],
          "name": "stdout"
        }
      ]
    },
    {
      "cell_type": "code",
      "metadata": {
        "colab": {
          "base_uri": "https://localhost:8080/",
          "height": 204
        },
        "id": "6oBL8WSXupKx",
        "outputId": "054b9529-4a1b-45c3-ab2a-59501ba95049"
      },
      "source": [
        "entities = []\n",
        "labels = []\n",
        "for chunk in chunks:\n",
        "  if hasattr(chunk, 'label'):\n",
        "    #print(chunk)\n",
        "    entities.append(' '.join(c[0] for c in chunk))\n",
        "    labels.append(chunk.label())\n",
        "\n",
        "entities_labels = list(set(zip(entities, labels)))\n",
        "entities_df = pd.DataFrame(entities_labels)\n",
        "entities_df.columns = ['entities', 'labels']\n",
        "entities_df"
      ],
      "execution_count": 7,
      "outputs": [
        {
          "output_type": "execute_result",
          "data": {
            "text/html": [
              "<div>\n",
              "<style scoped>\n",
              "    .dataframe tbody tr th:only-of-type {\n",
              "        vertical-align: middle;\n",
              "    }\n",
              "\n",
              "    .dataframe tbody tr th {\n",
              "        vertical-align: top;\n",
              "    }\n",
              "\n",
              "    .dataframe thead th {\n",
              "        text-align: right;\n",
              "    }\n",
              "</style>\n",
              "<table border=\"1\" class=\"dataframe\">\n",
              "  <thead>\n",
              "    <tr style=\"text-align: right;\">\n",
              "      <th></th>\n",
              "      <th>entities</th>\n",
              "      <th>labels</th>\n",
              "    </tr>\n",
              "  </thead>\n",
              "  <tbody>\n",
              "    <tr>\n",
              "      <th>0</th>\n",
              "      <td>America</td>\n",
              "      <td>NE</td>\n",
              "    </tr>\n",
              "    <tr>\n",
              "      <th>1</th>\n",
              "      <td>Apple</td>\n",
              "      <td>NE</td>\n",
              "    </tr>\n",
              "    <tr>\n",
              "      <th>2</th>\n",
              "      <td>United States</td>\n",
              "      <td>NE</td>\n",
              "    </tr>\n",
              "    <tr>\n",
              "      <th>3</th>\n",
              "      <td>China</td>\n",
              "      <td>NE</td>\n",
              "    </tr>\n",
              "    <tr>\n",
              "      <th>4</th>\n",
              "      <td>Google</td>\n",
              "      <td>NE</td>\n",
              "    </tr>\n",
              "  </tbody>\n",
              "</table>\n",
              "</div>"
            ],
            "text/plain": [
              "        entities labels\n",
              "0        America     NE\n",
              "1          Apple     NE\n",
              "2  United States     NE\n",
              "3          China     NE\n",
              "4         Google     NE"
            ]
          },
          "metadata": {
            "tags": []
          },
          "execution_count": 7
        }
      ]
    },
    {
      "cell_type": "markdown",
      "metadata": {
        "id": "NimXrdW_wq93"
      },
      "source": [
        "**en_Chunk**\n",
        "\n",
        "**Binary == False**"
      ]
    },
    {
      "cell_type": "code",
      "metadata": {
        "id": "FbTxfqdhvs47",
        "colab": {
          "base_uri": "https://localhost:8080/",
          "height": 742
        },
        "outputId": "9d603194-055b-4f63-8e38-7802d4e8f6d1"
      },
      "source": [
        "chunks = nltk.ne_chunk(pos_tags)\n",
        "for chunk in chunks:\n",
        "  print(chunk)\n",
        "\n",
        "entities = []\n",
        "labels = []\n",
        "for chunk in chunks:\n",
        "  if hasattr(chunk, 'label'):\n",
        "    #print(chunk)\n",
        "    entities.append(' '.join(c[0] for c in chunk))\n",
        "    labels.append(chunk.label())\n",
        "\n",
        "entities_labels = list(set(zip(entities, labels)))\n",
        "entities_df = pd.DataFrame(entities_labels)\n",
        "entities_df.columns = ['entities', 'labels']\n",
        "entities_df"
      ],
      "execution_count": 8,
      "outputs": [
        {
          "output_type": "stream",
          "text": [
            "(PERSON Apple/NNP)\n",
            "('acquired', 'VBD')\n",
            "(PERSON Zoom/NNP)\n",
            "('in', 'IN')\n",
            "(GPE China/NNP)\n",
            "('on', 'IN')\n",
            "('Wednesday', 'NNP')\n",
            "('6th', 'CD')\n",
            "('May', 'NNP')\n",
            "('2020.This', 'CD')\n",
            "('news', 'NN')\n",
            "('has', 'VBZ')\n",
            "('made', 'VBN')\n",
            "(PERSON Apple/NNP)\n",
            "('and', 'CC')\n",
            "(ORGANIZATION Google/NNP)\n",
            "('stock', 'NN')\n",
            "('jump', 'NN')\n",
            "('by', 'IN')\n",
            "('5', 'CD')\n",
            "('%', 'NN')\n",
            "('on', 'IN')\n",
            "(PERSON Dow/NNP Jones/NNP Index/NNP)\n",
            "('in', 'IN')\n",
            "('the', 'DT')\n",
            "(GPE United/NNP States/NNPS)\n",
            "('of', 'IN')\n",
            "(GPE America/NNP)\n"
          ],
          "name": "stdout"
        },
        {
          "output_type": "execute_result",
          "data": {
            "text/html": [
              "<div>\n",
              "<style scoped>\n",
              "    .dataframe tbody tr th:only-of-type {\n",
              "        vertical-align: middle;\n",
              "    }\n",
              "\n",
              "    .dataframe tbody tr th {\n",
              "        vertical-align: top;\n",
              "    }\n",
              "\n",
              "    .dataframe thead th {\n",
              "        text-align: right;\n",
              "    }\n",
              "</style>\n",
              "<table border=\"1\" class=\"dataframe\">\n",
              "  <thead>\n",
              "    <tr style=\"text-align: right;\">\n",
              "      <th></th>\n",
              "      <th>entities</th>\n",
              "      <th>labels</th>\n",
              "    </tr>\n",
              "  </thead>\n",
              "  <tbody>\n",
              "    <tr>\n",
              "      <th>0</th>\n",
              "      <td>China</td>\n",
              "      <td>GPE</td>\n",
              "    </tr>\n",
              "    <tr>\n",
              "      <th>1</th>\n",
              "      <td>Google</td>\n",
              "      <td>ORGANIZATION</td>\n",
              "    </tr>\n",
              "    <tr>\n",
              "      <th>2</th>\n",
              "      <td>United States</td>\n",
              "      <td>GPE</td>\n",
              "    </tr>\n",
              "    <tr>\n",
              "      <th>3</th>\n",
              "      <td>Apple</td>\n",
              "      <td>PERSON</td>\n",
              "    </tr>\n",
              "    <tr>\n",
              "      <th>4</th>\n",
              "      <td>America</td>\n",
              "      <td>GPE</td>\n",
              "    </tr>\n",
              "    <tr>\n",
              "      <th>5</th>\n",
              "      <td>Dow Jones Index</td>\n",
              "      <td>PERSON</td>\n",
              "    </tr>\n",
              "    <tr>\n",
              "      <th>6</th>\n",
              "      <td>Zoom</td>\n",
              "      <td>PERSON</td>\n",
              "    </tr>\n",
              "  </tbody>\n",
              "</table>\n",
              "</div>"
            ],
            "text/plain": [
              "          entities        labels\n",
              "0            China           GPE\n",
              "1           Google  ORGANIZATION\n",
              "2    United States           GPE\n",
              "3            Apple        PERSON\n",
              "4          America           GPE\n",
              "5  Dow Jones Index        PERSON\n",
              "6             Zoom        PERSON"
            ]
          },
          "metadata": {
            "tags": []
          },
          "execution_count": 8
        }
      ]
    },
    {
      "cell_type": "markdown",
      "metadata": {
        "id": "ffnF82USxOPe"
      },
      "source": [
        "# **Basic Named Entity (NE) tagging using NLTK - Sentence based**"
      ]
    },
    {
      "cell_type": "code",
      "metadata": {
        "colab": {
          "base_uri": "https://localhost:8080/",
          "height": 266
        },
        "id": "sCFJ4Z0xw3E6",
        "outputId": "f0191476-fb27-4c6a-d00f-5f67f2838e23"
      },
      "source": [
        "entities = []\n",
        "labels = []\n",
        "\n",
        "sentence = nltk.sent_tokenize(text)\n",
        "for sent in sentence:\n",
        "  for chunk in nltk.ne_chunk(nltk.pos_tag(nltk.word_tokenize(sent)), binary=False):\n",
        "    if hasattr(chunk, 'label'):\n",
        "      #print(chunk)\n",
        "      entities.append(' '.join(c[0] for c in chunk))\n",
        "      labels.append(chunk.label())\n",
        "\n",
        "entities_labels = list(set(zip(entities, labels)))\n",
        "entities_df = pd.DataFrame(entities_labels)\n",
        "entities_df.columns = ['entities', 'labels']\n",
        "entities_df"
      ],
      "execution_count": 9,
      "outputs": [
        {
          "output_type": "execute_result",
          "data": {
            "text/html": [
              "<div>\n",
              "<style scoped>\n",
              "    .dataframe tbody tr th:only-of-type {\n",
              "        vertical-align: middle;\n",
              "    }\n",
              "\n",
              "    .dataframe tbody tr th {\n",
              "        vertical-align: top;\n",
              "    }\n",
              "\n",
              "    .dataframe thead th {\n",
              "        text-align: right;\n",
              "    }\n",
              "</style>\n",
              "<table border=\"1\" class=\"dataframe\">\n",
              "  <thead>\n",
              "    <tr style=\"text-align: right;\">\n",
              "      <th></th>\n",
              "      <th>entities</th>\n",
              "      <th>labels</th>\n",
              "    </tr>\n",
              "  </thead>\n",
              "  <tbody>\n",
              "    <tr>\n",
              "      <th>0</th>\n",
              "      <td>China</td>\n",
              "      <td>GPE</td>\n",
              "    </tr>\n",
              "    <tr>\n",
              "      <th>1</th>\n",
              "      <td>Google</td>\n",
              "      <td>ORGANIZATION</td>\n",
              "    </tr>\n",
              "    <tr>\n",
              "      <th>2</th>\n",
              "      <td>United States</td>\n",
              "      <td>GPE</td>\n",
              "    </tr>\n",
              "    <tr>\n",
              "      <th>3</th>\n",
              "      <td>Apple</td>\n",
              "      <td>PERSON</td>\n",
              "    </tr>\n",
              "    <tr>\n",
              "      <th>4</th>\n",
              "      <td>America</td>\n",
              "      <td>GPE</td>\n",
              "    </tr>\n",
              "    <tr>\n",
              "      <th>5</th>\n",
              "      <td>Dow Jones Index</td>\n",
              "      <td>PERSON</td>\n",
              "    </tr>\n",
              "    <tr>\n",
              "      <th>6</th>\n",
              "      <td>Zoom</td>\n",
              "      <td>PERSON</td>\n",
              "    </tr>\n",
              "  </tbody>\n",
              "</table>\n",
              "</div>"
            ],
            "text/plain": [
              "          entities        labels\n",
              "0            China           GPE\n",
              "1           Google  ORGANIZATION\n",
              "2    United States           GPE\n",
              "3            Apple        PERSON\n",
              "4          America           GPE\n",
              "5  Dow Jones Index        PERSON\n",
              "6             Zoom        PERSON"
            ]
          },
          "metadata": {
            "tags": []
          },
          "execution_count": 9
        }
      ]
    }
  ]
}